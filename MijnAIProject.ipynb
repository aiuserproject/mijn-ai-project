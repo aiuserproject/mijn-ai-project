{
  "nbformat": 4,
  "nbformat_minor": 0,
  "metadata": {
    "colab": {
      "provenance": [],
      "gpuType": "T4",
      "authorship_tag": "ABX9TyMgCpxLCsgzW3J+z4ROKY2k",
      "include_colab_link": true
    },
    "kernelspec": {
      "name": "python3",
      "display_name": "Python 3"
    },
    "language_info": {
      "name": "python"
    },
    "accelerator": "GPU"
  },
  "cells": [
    {
      "cell_type": "markdown",
      "metadata": {
        "id": "view-in-github",
        "colab_type": "text"
      },
      "source": [
        "<a href=\"https://colab.research.google.com/github/aiuserproject/mijn-ai-project/blob/main/MijnAIProject.ipynb\" target=\"_parent\"><img src=\"https://colab.research.google.com/assets/colab-badge.svg\" alt=\"Open In Colab\"/></a>"
      ]
    },
    {
      "cell_type": "code",
      "execution_count": null,
      "metadata": {
        "id": "jPI3yEDn1tfA"
      },
      "outputs": [],
      "source": []
    },
    {
      "cell_type": "markdown",
      "source": [],
      "metadata": {
        "id": "e5yi18AP6Djb"
      }
    },
    {
      "cell_type": "code",
      "source": [
        "import torch\n",
        "from transformers import AutoTokenizer, AutoModelForSequenceClassification"
      ],
      "metadata": {
        "id": "e2ijTkKD23nA"
      },
      "execution_count": null,
      "outputs": []
    },
    {
      "cell_type": "code",
      "source": [
        "import torch\n",
        "if torch.cuda.is_available():\n",
        "    print(\"GPU is beschikbaar:\", torch.cuda.get_device_name(0))\n",
        "else:\n",
        "    print(\"Geen GPU beschikbaar.\")"
      ],
      "metadata": {
        "colab": {
          "base_uri": "https://localhost:8080/"
        },
        "id": "XO5MoaBi6K4t",
        "outputId": "2ad318d2-00c9-4d15-bc30-06f4ca2dbfb7"
      },
      "execution_count": null,
      "outputs": [
        {
          "output_type": "stream",
          "name": "stdout",
          "text": [
            "GPU is beschikbaar: Tesla T4\n"
          ]
        }
      ]
    },
    {
      "cell_type": "code",
      "source": [
        "model_name = \"distilbert-base-uncased-finetuned-sst-2-english\"\n",
        "tokenizer = AutoTokenizer.from_pretrained(model_name)\n",
        "model = AutoModelForSequenceClassification.from_pretrained(model_name)"
      ],
      "metadata": {
        "id": "BaDbS6QI8nTX"
      },
      "execution_count": null,
      "outputs": []
    },
    {
      "cell_type": "code",
      "source": [
        "inputs = tokenizer(\"Ik vind programmeren geweldig!\", return_tensors=\"pt\")\n",
        "outputs = model(**inputs)\n",
        "\n",
        "# De logits (ruwe scores)\n",
        "logits = outputs.logits\n",
        "predicted_class = logits.argmax(dim=1).item()\n",
        "\n",
        "if predicted_class == 1:\n",
        "    print(\"Positief sentiment.\")\n",
        "else:\n",
        "    print(\"Negatief sentiment.\")"
      ],
      "metadata": {
        "colab": {
          "base_uri": "https://localhost:8080/"
        },
        "id": "UMTdZ17V8pGt",
        "outputId": "f37564af-6e66-4164-ea70-45653b6d33a0"
      },
      "execution_count": null,
      "outputs": [
        {
          "output_type": "stream",
          "name": "stdout",
          "text": [
            "Positief sentiment.\n"
          ]
        }
      ]
    }
  ]
}